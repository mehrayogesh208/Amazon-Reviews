{
 "cells": [
  {
   "cell_type": "markdown",
   "metadata": {
    "colab": {
     "autoexec": {
      "startup": false,
      "wait_interval": 0
     }
    },
    "colab_type": "code",
    "id": "xmo216OkxY8W"
   },
   "source": [
    "# K- Nearest Neighbors!!!!!"
   ]
  },
  {
   "cell_type": "code",
   "execution_count": null,
   "metadata": {
    "collapsed": true
   },
   "outputs": [],
   "source": [
    "#note:final is a data frame that conatins data after all the preprocessing have been done!!\n",
    "#finaldf.pk was generated in the previous stage!!!!(Precrocessing phase!!)\n",
    "import pandas as pd\n",
    "final = pd.read_pickle('finaldf.pk')"
   ]
  },
  {
   "cell_type": "code",
   "execution_count": 4,
   "metadata": {
    "colab": {
     "autoexec": {
      "startup": false,
      "wait_interval": 0
     },
     "base_uri": "https://localhost:8080/",
     "height": 581
    },
    "colab_type": "code",
    "executionInfo": {
     "elapsed": 192520,
     "status": "ok",
     "timestamp": 1528811130965,
     "user": {
      "displayName": "YOGESH MEHRA",
      "photoUrl": "https://lh3.googleusercontent.com/a/default-user=s128",
      "userId": "115062788268951165903"
     },
     "user_tz": -330
    },
    "id": "AHGKEscRyUkt",
    "outputId": "9dd549d8-1eb2-4258-c897-02fed3349757"
   },
   "outputs": [
    {
     "name": "stderr",
     "output_type": "stream",
     "text": [
      "/usr/local/lib/python3.6/dist-packages/sklearn/cross_validation.py:41: DeprecationWarning: This module was deprecated in version 0.18 in favor of the model_selection module into which all the refactored classes and functions are moved. Also note that the interface of the new CV iterators are different from that of this module. This module will be removed in 0.20.\n",
      "  \"This module will be removed in 0.20.\", DeprecationWarning)\n"
     ]
    },
    {
     "name": "stdout",
     "output_type": "stream",
     "text": [
      "\n",
      "CV accuracy for k = 1 is 82%\n",
      "\n",
      "CV accuracy for k = 3 is 84%\n",
      "\n",
      "CV accuracy for k = 5 is 84%\n",
      "\n",
      "CV accuracy for k = 7 is 85%\n",
      "\n",
      "CV accuracy for k = 9 is 85%\n",
      "\n",
      "CV accuracy for k = 11 is 84%\n",
      "\n",
      "CV accuracy for k = 13 is 84%\n",
      "\n",
      "CV accuracy for k = 15 is 84%\n",
      "\n",
      "CV accuracy for k = 17 is 84%\n",
      "\n",
      "CV accuracy for k = 19 is 84%\n",
      "\n",
      "CV accuracy for k = 21 is 84%\n",
      "\n",
      "CV accuracy for k = 23 is 84%\n",
      "\n",
      "CV accuracy for k = 25 is 84%\n",
      "\n",
      "CV accuracy for k = 27 is 84%\n",
      "\n",
      "CV accuracy for k = 29 is 84%\n"
     ]
    }
   ],
   "source": [
    "#Now Random Sampling of data\n",
    "Sample_df = final.sample(50000)\n",
    "result = Sample_df.sort_values(\"Time\")\n",
    "#Now converting the CleanedText column into vector!!\n",
    "from sklearn.feature_extraction.text import CountVectorizer\n",
    "vectorizer = CountVectorizer()\n",
    "x = vectorizer.fit_transform(result[\"CleanedText\"].values)\n",
    "\n",
    "#Now since we are performing time based slicing the first 70 percent of the data will be train data rest we will consider as test data\n",
    "Train = x[0:35000]\n",
    "Test = x[35000:50000]\n",
    "Trainy = result[\"score\"][0:35000] \n",
    "Testy = result[\"score\"][35000:50000] \n",
    "import numpy as np\n",
    "import pandas as pd\n",
    "import matplotlib.pyplot as plt\n",
    "from sklearn.cross_validation import train_test_split\n",
    "from sklearn.neighbors import KNeighborsClassifier\n",
    "from sklearn.metrics import accuracy_score\n",
    "from sklearn.cross_validation import cross_val_score\n",
    "from collections import Counter\n",
    "from sklearn.metrics import accuracy_score\n",
    "from sklearn import cross_validation\n",
    "from sklearn.neighbors import KNeighborsClassifier\n",
    "\n",
    "\n",
    "\n",
    "# split the train data set into cross validation train and cross validation test\n",
    "X_tr, X_cv, y_tr, y_cv = cross_validation.train_test_split(Train, Trainy, test_size=0.3)\n",
    "\n",
    "for i in range(1,30,2):\n",
    "  neigh = KNeighborsClassifier(n_neighbors=i)\n",
    "  #fitting model to X_tr and y_tr\n",
    "  neigh.fit(X_tr,y_tr)\n",
    "  #prediction on X_crossvalidate\n",
    "  pre = neigh.predict(X_cv)\n",
    "  acc = accuracy_score(y_cv, pre, normalize=True) * float(100)\n",
    "  print('\\nCV accuracy for k = %d is %d%%' % (i, acc))"
   ]
  },
  {
   "cell_type": "code",
   "execution_count": 0,
   "metadata": {
    "colab": {
     "autoexec": {
      "startup": false,
      "wait_interval": 0
     }
    },
    "colab_type": "code",
    "collapsed": true,
    "id": "uMqQoZEn-FZY"
   },
   "outputs": [],
   "source": [
    "neigh = KNeighborsClassifier(n_neighbors=9)\n",
    "#fitting model to X_tr and y_tr\n",
    "neigh.fit(X_tr,y_tr)\n",
    "#prediction on X_crossvalidate\n",
    "pre = neigh.predict(Test)\n",
    "acc = accuracy_score(Testy, pre, normalize=True) * float(100)"
   ]
  },
  {
   "cell_type": "code",
   "execution_count": 5,
   "metadata": {
    "colab": {
     "autoexec": {
      "startup": false,
      "wait_interval": 0
     },
     "base_uri": "https://localhost:8080/",
     "height": 446
    },
    "colab_type": "code",
    "executionInfo": {
     "elapsed": 1361055,
     "status": "ok",
     "timestamp": 1528812524564,
     "user": {
      "displayName": "YOGESH MEHRA",
      "photoUrl": "https://lh3.googleusercontent.com/a/default-user=s128",
      "userId": "115062788268951165903"
     },
     "user_tz": -330
    },
    "id": "X2wm9ZAWA7rx",
    "outputId": "fb64d0e0-ec5d-4740-e8cc-0a7a77f6ec97"
   },
   "outputs": [
    {
     "name": "stdout",
     "output_type": "stream",
     "text": [
      "\n",
      "The optimal number of neighbors is 9.\n"
     ]
    },
    {
     "data": {
      "image/png": "[encoded data removed]",
      "text/plain": [
       "<matplotlib.figure.Figure at 0x7f32481b5780>"
      ]
     },
     "metadata": {
      "tags": []
     },
     "output_type": "display_data"
    },
    {
     "name": "stdout",
     "output_type": "stream",
     "text": [
      "the misclassification error for each k value is :  [0.175 0.151 0.146 0.145 0.145 0.146 0.146 0.147 0.147 0.148 0.148 0.148\n",
      " 0.148 0.148 0.149 0.149 0.149 0.149 0.149 0.149 0.149 0.149 0.149 0.149\n",
      " 0.149]\n"
     ]
    }
   ],
   "source": [
    "# creating odd list of K for KNN\n",
    "myList = list(range(0,50))\n",
    "neighbors = list(filter(lambda x: x % 2 != 0, myList))\n",
    "\n",
    "# empty list that will hold cv scores\n",
    "cv_scores = []\n",
    "\n",
    "# perform 10-fold cross validation\n",
    "for k in neighbors:\n",
    "    knn = KNeighborsClassifier(n_neighbors=k)\n",
    "    scores = cross_val_score(knn, Train, Trainy, cv=10, scoring='accuracy')\n",
    "    cv_scores.append(scores.mean())\n",
    "\n",
    "# changing to misclassification error\n",
    "MSE = [1 - x for x in cv_scores]\n",
    "\n",
    "# determining best k\n",
    "optimal_k = neighbors[MSE.index(min(MSE))]\n",
    "print('\\nThe optimal number of neighbors is %d.' % optimal_k)\n",
    "\n",
    "# plot misclassification error vs k \n",
    "plt.plot(neighbors, MSE)\n",
    "\n",
    "for xy in zip(neighbors, np.round(MSE,3)):\n",
    "    plt.annotate('(%s, %s)' % xy, xy=xy, textcoords='data')\n",
    "\n",
    "plt.xlabel('Number of Neighbors K')\n",
    "plt.ylabel('Misclassification Error')\n",
    "plt.show()\n",
    "\n",
    "print(\"the misclassification error for each k value is : \", np.round(MSE,3))"
   ]
  },
  {
   "cell_type": "code",
   "execution_count": 7,
   "metadata": {
    "colab": {
     "autoexec": {
      "startup": false,
      "wait_interval": 0
     },
     "base_uri": "https://localhost:8080/",
     "height": 51
    },
    "colab_type": "code",
    "executionInfo": {
     "elapsed": 33596,
     "status": "ok",
     "timestamp": 1528813066173,
     "user": {
      "displayName": "YOGESH MEHRA",
      "photoUrl": "https://lh3.googleusercontent.com/a/default-user=s128",
      "userId": "115062788268951165903"
     },
     "user_tz": -330
    },
    "id": "hsgbIkEw-kCv",
    "outputId": "d26d8e8a-7dd7-4024-c9c6-036f74373e4f"
   },
   "outputs": [
    {
     "name": "stdout",
     "output_type": "stream",
     "text": [
      "\n",
      "CV accuracy for k = 9 is 83%\n"
     ]
    }
   ],
   "source": [
    "#Since we found our optimal k as 9 now we will train the model with k = 9\n",
    "neigh = KNeighborsClassifier(n_neighbors=9)\n",
    "  #fitting model to X_tr and y_tr\n",
    "neigh.fit(Train,Trainy)\n",
    "#prediction on X_crossvalidate\n",
    "pre = neigh.predict(Test)\n",
    "acc = accuracy_score(Testy, pre, normalize=True) * float(100)\n",
    "print('\\nCV accuracy for k = %d is %d%%' % (9, acc))"
   ]
  },
  {
   "cell_type": "markdown",
   "metadata": {
    "colab_type": "text",
    "id": "Dg0qFE4UXfdJ"
   },
   "source": [
    "# Now we will use tfidf\n"
   ]
  },
  {
   "cell_type": "code",
   "execution_count": 0,
   "metadata": {
    "colab": {
     "autoexec": {
      "startup": false,
      "wait_interval": 0
     }
    },
    "colab_type": "code",
    "collapsed": true,
    "id": "7dgBA_D2XeKR"
   },
   "outputs": [],
   "source": [
    "from sklearn.feature_extraction.text import TfidfTransformer \n",
    "from sklearn.feature_extraction.text import TfidfVectorizer\n",
    "\n",
    "tf_idf_vect = TfidfVectorizer(ngram_range=(1,2))\n",
    "final_tf_idf = tf_idf_vect.fit_transform(result[\"CleanedText\"].values)\n",
    "Train = final_tf_idf[0:35000]\n",
    "Test = final_tf_idf[35000:50000]\n",
    "Trainy = result[\"score\"][0:35000] \n",
    "Testy = result[\"score\"][35000:50000] "
   ]
  },
  {
   "cell_type": "code",
   "execution_count": 10,
   "metadata": {
    "colab": {
     "autoexec": {
      "startup": false,
      "wait_interval": 0
     },
     "base_uri": "https://localhost:8080/",
     "height": 446
    },
    "colab_type": "code",
    "executionInfo": {
     "elapsed": 1438241,
     "status": "ok",
     "timestamp": 1528814847744,
     "user": {
      "displayName": "YOGESH MEHRA",
      "photoUrl": "https://lh3.googleusercontent.com/a/default-user=s128",
      "userId": "115062788268951165903"
     },
     "user_tz": -330
    },
    "id": "568srRsBYTFd",
    "outputId": "0f702032-6b9d-4433-d2c5-9b77acde85c6"
   },
   "outputs": [
    {
     "name": "stdout",
     "output_type": "stream",
     "text": [
      "\n",
      "The optimal number of neighbors is 9.\n"
     ]
    },
    {
     "data": {
      "image/png": "[encoded data removed]",
      "text/plain": [
       "<matplotlib.figure.Figure at 0x7f3232844438>"
      ]
     },
     "metadata": {
      "tags": []
     },
     "output_type": "display_data"
    },
    {
     "name": "stdout",
     "output_type": "stream",
     "text": [
      "the misclassification error for each k value is :  [0.185 0.148 0.141 0.137 0.137 0.137 0.138 0.138 0.138 0.139 0.139 0.139\n",
      " 0.139 0.14  0.14  0.14  0.14  0.141 0.141 0.141 0.141 0.141 0.141 0.142\n",
      " 0.142]\n"
     ]
    }
   ],
   "source": [
    "# creating odd list of K for KNN\n",
    "myList = list(range(0,50))\n",
    "neighbors = list(filter(lambda x: x % 2 != 0, myList))\n",
    "\n",
    "# empty list that will hold cv scores\n",
    "cv_scores = []\n",
    "\n",
    "# perform 10-fold cross validation\n",
    "for k in neighbors:\n",
    "    knn = KNeighborsClassifier(n_neighbors=k)\n",
    "    scores = cross_val_score(knn, Train, Trainy, cv=10, scoring='accuracy')\n",
    "    cv_scores.append(scores.mean())\n",
    "\n",
    "# changing to misclassification error\n",
    "MSE = [1 - x for x in cv_scores]\n",
    "\n",
    "# determining best k\n",
    "optimal_k = neighbors[MSE.index(min(MSE))]\n",
    "print('\\nThe optimal number of neighbors is %d.' % optimal_k)\n",
    "\n",
    "# plot misclassification error vs k \n",
    "plt.plot(neighbors, MSE)\n",
    "\n",
    "for xy in zip(neighbors, np.round(MSE,3)):\n",
    "    plt.annotate('(%s, %s)' % xy, xy=xy, textcoords='data')\n",
    "\n",
    "plt.xlabel('Number of Neighbors K')\n",
    "plt.ylabel('Misclassification Error')\n",
    "plt.show()\n",
    "\n",
    "print(\"the misclassification error for each k value is : \", np.round(MSE,3))"
   ]
  },
  {
   "cell_type": "code",
   "execution_count": 11,
   "metadata": {
    "colab": {
     "autoexec": {
      "startup": false,
      "wait_interval": 0
     },
     "base_uri": "https://localhost:8080/",
     "height": 51
    },
    "colab_type": "code",
    "executionInfo": {
     "elapsed": 29949,
     "status": "ok",
     "timestamp": 1528815019067,
     "user": {
      "displayName": "YOGESH MEHRA",
      "photoUrl": "https://lh3.googleusercontent.com/a/default-user=s128",
      "userId": "115062788268951165903"
     },
     "user_tz": -330
    },
    "id": "PdvTLE2seUnA",
    "outputId": "7282306e-085a-4ff6-a75b-9d8a1458b8e0"
   },
   "outputs": [
    {
     "name": "stdout",
     "output_type": "stream",
     "text": [
      "\n",
      "CV accuracy for k = 9 is 84%\n"
     ]
    }
   ],
   "source": [
    "#Since we found our optimal k as 9 now we will train the model with k = 9\n",
    "neigh = KNeighborsClassifier(n_neighbors=9)\n",
    "  #fitting model to X_tr and y_tr\n",
    "neigh.fit(Train,Trainy)\n",
    "#prediction on X_crossvalidate\n",
    "pre = neigh.predict(Test)\n",
    "acc = accuracy_score(Testy, pre, normalize=True) * float(100)\n",
    "print('\\nCV accuracy for k = %d is %d%%' % (9, acc))"
   ]
  }
 ],
 "metadata": {
  "colab": {
   "default_view": {},
   "name": "assign1.ipynb",
   "provenance": [],
   "version": "0.3.2",
   "views": {}
  },
  "kernelspec": {
   "display_name": "Python 3",
   "language": "python",
   "name": "python3"
  },
  "language_info": {
   "codemirror_mode": {
    "name": "ipython",
    "version": 3
   },
   "file_extension": ".py",
   "mimetype": "text/x-python",
   "name": "python",
   "nbconvert_exporter": "python",
   "pygments_lexer": "ipython3",
   "version": "3.6.3"
  }
 },
 "nbformat": 4,
 "nbformat_minor": 1
}
